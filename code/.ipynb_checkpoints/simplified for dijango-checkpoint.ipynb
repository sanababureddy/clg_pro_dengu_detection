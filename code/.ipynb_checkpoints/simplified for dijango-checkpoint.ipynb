{
 "cells": [
  {
   "cell_type": "markdown",
   "metadata": {},
   "source": [
    "# Dengue Disease Detection\n"
   ]
  },
  {
   "cell_type": "code",
   "execution_count": 1,
   "metadata": {
    "_cell_guid": "79c7e3d0-c299-4dcb-8224-4455121ee9b0",
    "_uuid": "d629ff2d2480ee46fbb7e2d37f6b5fab8052498a"
   },
   "outputs": [
    {
     "ename": "ValueError",
     "evalue": "could not convert string to float: '-f'",
     "output_type": "error",
     "traceback": [
      "\u001b[1;31m---------------------------------------------------------------------------\u001b[0m",
      "\u001b[1;31mValueError\u001b[0m                                Traceback (most recent call last)",
      "\u001b[1;32m<ipython-input-1-99c87fc7e525>\u001b[0m in \u001b[0;36m<module>\u001b[1;34m\u001b[0m\n\u001b[0;32m     68\u001b[0m \u001b[0mrecieved_values\u001b[0m \u001b[1;33m=\u001b[0m \u001b[0mstr\u001b[0m\u001b[1;33m(\u001b[0m\u001b[0msys\u001b[0m\u001b[1;33m.\u001b[0m\u001b[0margv\u001b[0m\u001b[1;33m)\u001b[0m\u001b[1;33m\u001b[0m\u001b[1;33m\u001b[0m\u001b[0m\n\u001b[0;32m     69\u001b[0m \u001b[0mrv\u001b[0m \u001b[1;33m=\u001b[0m \u001b[0mrecieved_values\u001b[0m\u001b[1;33m.\u001b[0m\u001b[0mstrip\u001b[0m\u001b[1;33m(\u001b[0m\u001b[1;34m'['\u001b[0m\u001b[1;33m)\u001b[0m\u001b[1;33m.\u001b[0m\u001b[0mstrip\u001b[0m\u001b[1;33m(\u001b[0m\u001b[1;34m']'\u001b[0m\u001b[1;33m)\u001b[0m\u001b[1;33m.\u001b[0m\u001b[0mstrip\u001b[0m\u001b[1;33m(\u001b[0m\u001b[1;34m\"'\"\u001b[0m\u001b[1;33m)\u001b[0m\u001b[1;33m.\u001b[0m\u001b[0mstrip\u001b[0m\u001b[1;33m(\u001b[0m\u001b[1;34m\" '\"\u001b[0m\u001b[1;33m)\u001b[0m\u001b[1;33m.\u001b[0m\u001b[0msplit\u001b[0m\u001b[1;33m(\u001b[0m\u001b[1;34m','\u001b[0m\u001b[1;33m)\u001b[0m\u001b[1;33m\u001b[0m\u001b[1;33m\u001b[0m\u001b[0m\n\u001b[1;32m---> 70\u001b[1;33m \u001b[0mfever\u001b[0m \u001b[1;33m=\u001b[0m \u001b[0mfloat\u001b[0m\u001b[1;33m(\u001b[0m\u001b[0mrv\u001b[0m\u001b[1;33m[\u001b[0m\u001b[1;36m1\u001b[0m\u001b[1;33m]\u001b[0m\u001b[1;33m.\u001b[0m\u001b[0mstrip\u001b[0m\u001b[1;33m(\u001b[0m\u001b[1;34m\" '\"\u001b[0m\u001b[1;33m)\u001b[0m\u001b[1;33m)\u001b[0m\u001b[1;33m\u001b[0m\u001b[1;33m\u001b[0m\u001b[0m\n\u001b[0m\u001b[0;32m     71\u001b[0m \u001b[0mvomiting\u001b[0m \u001b[1;33m=\u001b[0m \u001b[0mint\u001b[0m\u001b[1;33m(\u001b[0m\u001b[0mrv\u001b[0m\u001b[1;33m[\u001b[0m\u001b[1;36m2\u001b[0m\u001b[1;33m]\u001b[0m\u001b[1;33m)\u001b[0m\u001b[1;33m\u001b[0m\u001b[1;33m\u001b[0m\u001b[0m\n\u001b[0;32m     72\u001b[0m \u001b[0mnausea\u001b[0m \u001b[1;33m=\u001b[0m  \u001b[0mint\u001b[0m\u001b[1;33m(\u001b[0m\u001b[0mrv\u001b[0m\u001b[1;33m[\u001b[0m\u001b[1;36m3\u001b[0m\u001b[1;33m]\u001b[0m\u001b[1;33m)\u001b[0m\u001b[1;33m\u001b[0m\u001b[1;33m\u001b[0m\u001b[0m\n",
      "\u001b[1;31mValueError\u001b[0m: could not convert string to float: '-f'"
     ]
    }
   ],
   "source": [
    "import pandas as pd\n",
    "import sys\n",
    "#ignoring feature warnings\n",
    "import warnings\n",
    "warnings.filterwarnings('ignore')\n",
    "data=pd.read_csv(\"C:/Users/tejak/Desktop/Project@ML/github/code/dataset.csv\")\n",
    "data.drop(columns={'id'},inplace=True) #Deleting id\n",
    "get={'no':0,'yes':1,'low':2,'medium':3,'high':4} \n",
    "data.vomiting=data.vomiting.map(get)\n",
    "data.nausea=data.nausea.map(get)\n",
    "data.vomiting_blood=data.vomiting_blood.map(get)\n",
    "data.body_pains=data.body_pains.map(get)\n",
    "data.pain_behind_eyes=data.pain_behind_eyes.map(get)\n",
    "data.joint_pains=data.joint_pains.map(get)\n",
    "data.chill=data.chill.map(get)\n",
    "data.headache=data.headache.map(get)\n",
    "data.swollen_glands=data.swollen_glands.map(get)\n",
    "data.rashes=data.rashes.map(get)\n",
    "data.abdominal_pain=data.abdominal_pain.map(get)\n",
    "data.ble_nose=data.ble_nose.map(get)\n",
    "data.ble_mouth=data.ble_mouth.map(get)\n",
    "data.fatigue=data.fatigue.map(get)\n",
    "data.red_eyes=data.red_eyes.map(get)\n",
    "data.dengue=data.dengue.map(get)\n",
    "data=data[:225] #using 225 rows\n",
    "from sklearn.model_selection import train_test_split\n",
    "new_data=data.drop(columns={'dengue'})\n",
    "X_train,X_test,y_train,y_test=train_test_split(new_data,data['dengue'],random_state=7)\n",
    "from sklearn.preprocessing import Normalizer\n",
    "norm=Normalizer()\n",
    "X_train_normal=norm.transform(X_train)\n",
    "X_test_normal=norm.transform(X_test)\n",
    "from sklearn.ensemble import RandomForestClassifier\n",
    "from sklearn.tree import DecisionTreeClassifier\n",
    "from sklearn.linear_model import LogisticRegression\n",
    "RF_params = {'n_estimators':[10,50,100]}\n",
    "DTC_params = {'criterion':['entropy'], 'max_depth':[10, 50, 100]}\n",
    "LR_params = {'C':[0.001, 0.1, 1, 10, 100]}\n",
    "from sklearn.model_selection import KFold, cross_val_score\n",
    "from sklearn.model_selection import GridSearchCV\n",
    "models=[]\n",
    "models.append(('DTC', DecisionTreeClassifier(), DTC_params))\n",
    "models.append(('LR', LogisticRegression(), LR_params))\n",
    "from sklearn.metrics import make_scorer, accuracy_score, fbeta_score\n",
    "clf=RandomForestClassifier(n_estimators=100, random_state=42)\n",
    "clf.fit(X_train_normal,y_train)\n",
    "pred=clf.predict(X_test_normal)\n",
    "accuracy_score(pred,y_test)\n",
    "from sklearn.metrics import make_scorer, accuracy_score, fbeta_score\n",
    "clf = DecisionTreeClassifier(random_state=42)\n",
    "parameters = {'criterion':['entropy'], 'max_depth':[10, 50, 100]}\n",
    "grid_obj = GridSearchCV(clf,parameters,scoring='accuracy')\n",
    "grid_fit = grid_obj.fit(X_train_normal,y_train)\n",
    "best_clf = grid_fit.best_estimator_\n",
    "predictions = (clf.fit(X_train_normal, y_train)).predict(X_test_normal)\n",
    "best_predictions = best_clf.predict(X_test_normal)\n",
    "def Predict(fever, vomiting, nausea, vomiting_blood, body_pains, pain_behind_eyes, joint_pains, chill, headache, swollen_glands, rashes, abdominal_pain, ble_nose, ble_mouth, fatigue, red_eyes, platelets_count):\n",
    "    normilized_value = norm.transform([[fever, vomiting, nausea, vomiting_blood, body_pains, pain_behind_eyes, joint_pains, chill, headache, swollen_glands, rashes, abdominal_pain, ble_nose, ble_mouth, fatigue, red_eyes, platelets_count]]);\n",
    "    element = str(normilized_value[[0]])\n",
    "    element = element.strip('[').strip(']').split()\n",
    "    prediction_result=best_clf.predict([element])\n",
    "    if prediction_result == [1]:\n",
    "        return True\n",
    "    elif prediction_result == [0]:\n",
    "        return False\n",
    "    else:\n",
    "        return \"Unknown\"\n",
    "recieved_values = str(sys.argv)\n",
    "rv = recieved_values.strip('[').strip(']').strip(\"'\").strip(\" '\").split(',')\n",
    "fever = float(rv[1].strip(\" '\"))\n",
    "vomiting = int(rv[2])\n",
    "nausea =  int(rv[3])\n",
    "vomiting_blood =  int(rv[4])\n",
    "body_pains =  int(rv[5])\n",
    "pain_behind_eyes =  int(rv[6])\n",
    "joint_pains =  int(rv[7])\n",
    "chill =  int(rv[8])\n",
    "headache =  int(rv[9])\n",
    "swollen_glands =  int(rv[10])\n",
    "rashes =  int(rv[11])\n",
    "abdominal_pain =  int(rv[12])\n",
    "ble_nose =  int(rv[13])\n",
    "ble_mouth =  int(rv[14])\n",
    "fatigue =  int(rv[15])\n",
    "red_eyes =  int(rv[16])\n",
    "platelets_count =  int(rv[17])\n",
    "print(Predict(fever, vomiting, nausea, vomiting_blood, body_pains, pain_behind_eyes, joint_pains, chill, headache, swollen_glands, rashes, abdominal_pain, ble_nose, ble_mouth, fatigue, red_eyes, platelets_count))\n"
   ]
  },
  {
   "cell_type": "code",
   "execution_count": null,
   "metadata": {},
   "outputs": [],
   "source": []
  }
 ],
 "metadata": {
  "kernelspec": {
   "display_name": "Python 3",
   "language": "python",
   "name": "python3"
  },
  "language_info": {
   "codemirror_mode": {
    "name": "ipython",
    "version": 3
   },
   "file_extension": ".py",
   "mimetype": "text/x-python",
   "name": "python",
   "nbconvert_exporter": "python",
   "pygments_lexer": "ipython3",
   "version": "3.7.3"
  }
 },
 "nbformat": 4,
 "nbformat_minor": 1
}
