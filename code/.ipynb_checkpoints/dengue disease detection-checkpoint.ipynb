{
 "cells": [
  {
   "cell_type": "markdown",
   "metadata": {},
   "source": [
    "# Dengue Disease Detection\n"
   ]
  },
  {
   "cell_type": "code",
   "execution_count": 14,
   "metadata": {
    "_cell_guid": "79c7e3d0-c299-4dcb-8224-4455121ee9b0",
    "_uuid": "d629ff2d2480ee46fbb7e2d37f6b5fab8052498a"
   },
   "outputs": [],
   "source": [
    "import pandas as pd\n",
    "import seaborn as sns\n",
    "#ignoring feature warnings\n",
    "import warnings\n",
    "warnings.filterwarnings('ignore')"
   ]
  },
  {
   "cell_type": "markdown",
   "metadata": {},
   "source": [
    "## Reading data"
   ]
  },
  {
   "cell_type": "code",
   "execution_count": 15,
   "metadata": {},
   "outputs": [],
   "source": [
    "data=pd.read_csv(\"C:/Users/tejak/Desktop/Project@ML/github/code/dataset.csv\")"
   ]
  },
  {
   "cell_type": "markdown",
   "metadata": {},
   "source": [
    "## Printing top 5 rows"
   ]
  },
  {
   "cell_type": "code",
   "execution_count": 16,
   "metadata": {
    "scrolled": true
   },
   "outputs": [
    {
     "data": {
      "text/html": [
       "<div>\n",
       "<style scoped>\n",
       "    .dataframe tbody tr th:only-of-type {\n",
       "        vertical-align: middle;\n",
       "    }\n",
       "\n",
       "    .dataframe tbody tr th {\n",
       "        vertical-align: top;\n",
       "    }\n",
       "\n",
       "    .dataframe thead th {\n",
       "        text-align: right;\n",
       "    }\n",
       "</style>\n",
       "<table border=\"1\" class=\"dataframe\">\n",
       "  <thead>\n",
       "    <tr style=\"text-align: right;\">\n",
       "      <th></th>\n",
       "      <th>id</th>\n",
       "      <th>fever</th>\n",
       "      <th>vomiting</th>\n",
       "      <th>nausea</th>\n",
       "      <th>vomiting_blood</th>\n",
       "      <th>body_pains</th>\n",
       "      <th>pain_behind_eyes</th>\n",
       "      <th>joint_pains</th>\n",
       "      <th>chill</th>\n",
       "      <th>headache</th>\n",
       "      <th>swollen_glands</th>\n",
       "      <th>rashes</th>\n",
       "      <th>abdominal_pain</th>\n",
       "      <th>ble_nose</th>\n",
       "      <th>ble_mouth</th>\n",
       "      <th>fatigue</th>\n",
       "      <th>red_eyes</th>\n",
       "      <th>platelets_count</th>\n",
       "      <th>dengue</th>\n",
       "    </tr>\n",
       "  </thead>\n",
       "  <tbody>\n",
       "    <tr>\n",
       "      <th>0</th>\n",
       "      <td>1</td>\n",
       "      <td>102.5</td>\n",
       "      <td>no</td>\n",
       "      <td>no</td>\n",
       "      <td>no</td>\n",
       "      <td>yes</td>\n",
       "      <td>no</td>\n",
       "      <td>no</td>\n",
       "      <td>yes</td>\n",
       "      <td>low</td>\n",
       "      <td>no</td>\n",
       "      <td>yes</td>\n",
       "      <td>no</td>\n",
       "      <td>no</td>\n",
       "      <td>no</td>\n",
       "      <td>yes</td>\n",
       "      <td>no</td>\n",
       "      <td>290000</td>\n",
       "      <td>no</td>\n",
       "    </tr>\n",
       "    <tr>\n",
       "      <th>1</th>\n",
       "      <td>2</td>\n",
       "      <td>101.8</td>\n",
       "      <td>no</td>\n",
       "      <td>no</td>\n",
       "      <td>no</td>\n",
       "      <td>low</td>\n",
       "      <td>no</td>\n",
       "      <td>no</td>\n",
       "      <td>no</td>\n",
       "      <td>low</td>\n",
       "      <td>no</td>\n",
       "      <td>no</td>\n",
       "      <td>no</td>\n",
       "      <td>no</td>\n",
       "      <td>no</td>\n",
       "      <td>no</td>\n",
       "      <td>no</td>\n",
       "      <td>256000</td>\n",
       "      <td>no</td>\n",
       "    </tr>\n",
       "    <tr>\n",
       "      <th>2</th>\n",
       "      <td>3</td>\n",
       "      <td>101.8</td>\n",
       "      <td>yes</td>\n",
       "      <td>no</td>\n",
       "      <td>no</td>\n",
       "      <td>low</td>\n",
       "      <td>no</td>\n",
       "      <td>no</td>\n",
       "      <td>yes</td>\n",
       "      <td>high</td>\n",
       "      <td>no</td>\n",
       "      <td>no</td>\n",
       "      <td>no</td>\n",
       "      <td>no</td>\n",
       "      <td>no</td>\n",
       "      <td>yes</td>\n",
       "      <td>yes</td>\n",
       "      <td>165000</td>\n",
       "      <td>no</td>\n",
       "    </tr>\n",
       "    <tr>\n",
       "      <th>3</th>\n",
       "      <td>4</td>\n",
       "      <td>100.9</td>\n",
       "      <td>no</td>\n",
       "      <td>no</td>\n",
       "      <td>no</td>\n",
       "      <td>yes</td>\n",
       "      <td>no</td>\n",
       "      <td>no</td>\n",
       "      <td>yes</td>\n",
       "      <td>high</td>\n",
       "      <td>no</td>\n",
       "      <td>yes</td>\n",
       "      <td>no</td>\n",
       "      <td>yes</td>\n",
       "      <td>no</td>\n",
       "      <td>yes</td>\n",
       "      <td>no</td>\n",
       "      <td>168000</td>\n",
       "      <td>no</td>\n",
       "    </tr>\n",
       "    <tr>\n",
       "      <th>4</th>\n",
       "      <td>5</td>\n",
       "      <td>103.4</td>\n",
       "      <td>yes</td>\n",
       "      <td>yes</td>\n",
       "      <td>yes</td>\n",
       "      <td>high</td>\n",
       "      <td>yes</td>\n",
       "      <td>medium</td>\n",
       "      <td>yes</td>\n",
       "      <td>medium</td>\n",
       "      <td>yes</td>\n",
       "      <td>no</td>\n",
       "      <td>yes</td>\n",
       "      <td>yes</td>\n",
       "      <td>no</td>\n",
       "      <td>yes</td>\n",
       "      <td>no</td>\n",
       "      <td>6800</td>\n",
       "      <td>yes</td>\n",
       "    </tr>\n",
       "  </tbody>\n",
       "</table>\n",
       "</div>"
      ],
      "text/plain": [
       "   id  fever vomiting nausea vomiting_blood body_pains pain_behind_eyes  \\\n",
       "0   1  102.5       no     no             no        yes               no   \n",
       "1   2  101.8       no     no             no        low               no   \n",
       "2   3  101.8      yes     no             no        low               no   \n",
       "3   4  100.9       no     no             no        yes               no   \n",
       "4   5  103.4      yes    yes            yes       high              yes   \n",
       "\n",
       "  joint_pains chill headache swollen_glands rashes abdominal_pain ble_nose  \\\n",
       "0          no   yes      low             no    yes             no       no   \n",
       "1          no    no      low             no     no             no       no   \n",
       "2          no   yes     high             no     no             no       no   \n",
       "3          no   yes     high             no    yes             no      yes   \n",
       "4      medium   yes   medium            yes     no            yes      yes   \n",
       "\n",
       "  ble_mouth fatigue red_eyes  platelets_count dengue  \n",
       "0        no     yes       no           290000     no  \n",
       "1        no      no       no           256000     no  \n",
       "2        no     yes      yes           165000     no  \n",
       "3        no     yes       no           168000     no  \n",
       "4        no     yes       no             6800    yes  "
      ]
     },
     "execution_count": 16,
     "metadata": {},
     "output_type": "execute_result"
    }
   ],
   "source": [
    "data.head()"
   ]
  },
  {
   "cell_type": "code",
   "execution_count": 17,
   "metadata": {},
   "outputs": [],
   "source": [
    "data.drop(columns={'id'},inplace=True) #Deleting id"
   ]
  },
  {
   "cell_type": "code",
   "execution_count": 18,
   "metadata": {},
   "outputs": [],
   "source": [
    "get={'no':0,'yes':1,'low':2,'medium':3,'high':4} \n"
   ]
  },
  {
   "cell_type": "code",
   "execution_count": 19,
   "metadata": {},
   "outputs": [
    {
     "data": {
      "text/plain": [
       "Index(['fever', 'vomiting', 'nausea', 'vomiting_blood', 'body_pains',\n",
       "       'pain_behind_eyes', 'joint_pains', 'chill', 'headache',\n",
       "       'swollen_glands', 'rashes', 'abdominal_pain', 'ble_nose', 'ble_mouth',\n",
       "       'fatigue', 'red_eyes', 'platelets_count', 'dengue'],\n",
       "      dtype='object')"
      ]
     },
     "execution_count": 19,
     "metadata": {},
     "output_type": "execute_result"
    }
   ],
   "source": [
    "data.columns"
   ]
  },
  {
   "cell_type": "markdown",
   "metadata": {},
   "source": [
    "## Data cleaning"
   ]
  },
  {
   "cell_type": "code",
   "execution_count": 20,
   "metadata": {},
   "outputs": [],
   "source": [
    "data.vomiting=data.vomiting.map(get)\n",
    "data.nausea=data.nausea.map(get)\n",
    "data.vomiting_blood=data.vomiting_blood.map(get)\n",
    "data.body_pains=data.body_pains.map(get)\n",
    "data.pain_behind_eyes=data.pain_behind_eyes.map(get)\n",
    "data.joint_pains=data.joint_pains.map(get)\n",
    "data.chill=data.chill.map(get)\n",
    "data.headache=data.headache.map(get)\n",
    "data.swollen_glands=data.swollen_glands.map(get)\n",
    "data.rashes=data.rashes.map(get)\n",
    "data.abdominal_pain=data.abdominal_pain.map(get)\n",
    "data.ble_nose=data.ble_nose.map(get)\n",
    "data.ble_mouth=data.ble_mouth.map(get)\n",
    "data.fatigue=data.fatigue.map(get)\n",
    "data.red_eyes=data.red_eyes.map(get)\n",
    "data.dengue=data.dengue.map(get)"
   ]
  },
  {
   "cell_type": "code",
   "execution_count": 21,
   "metadata": {},
   "outputs": [],
   "source": [
    "data=data[:225]"
   ]
  },
  {
   "cell_type": "code",
   "execution_count": 22,
   "metadata": {},
   "outputs": [
    {
     "data": {
      "text/html": [
       "<div>\n",
       "<style scoped>\n",
       "    .dataframe tbody tr th:only-of-type {\n",
       "        vertical-align: middle;\n",
       "    }\n",
       "\n",
       "    .dataframe tbody tr th {\n",
       "        vertical-align: top;\n",
       "    }\n",
       "\n",
       "    .dataframe thead th {\n",
       "        text-align: right;\n",
       "    }\n",
       "</style>\n",
       "<table border=\"1\" class=\"dataframe\">\n",
       "  <thead>\n",
       "    <tr style=\"text-align: right;\">\n",
       "      <th></th>\n",
       "      <th>fever</th>\n",
       "      <th>vomiting</th>\n",
       "      <th>nausea</th>\n",
       "      <th>vomiting_blood</th>\n",
       "      <th>body_pains</th>\n",
       "      <th>pain_behind_eyes</th>\n",
       "      <th>joint_pains</th>\n",
       "      <th>chill</th>\n",
       "      <th>headache</th>\n",
       "      <th>swollen_glands</th>\n",
       "      <th>rashes</th>\n",
       "      <th>abdominal_pain</th>\n",
       "      <th>ble_nose</th>\n",
       "      <th>ble_mouth</th>\n",
       "      <th>fatigue</th>\n",
       "      <th>red_eyes</th>\n",
       "      <th>platelets_count</th>\n",
       "      <th>dengue</th>\n",
       "    </tr>\n",
       "  </thead>\n",
       "  <tbody>\n",
       "    <tr>\n",
       "      <th>0</th>\n",
       "      <td>102.5</td>\n",
       "      <td>0</td>\n",
       "      <td>0</td>\n",
       "      <td>0</td>\n",
       "      <td>1</td>\n",
       "      <td>0</td>\n",
       "      <td>0</td>\n",
       "      <td>1</td>\n",
       "      <td>2</td>\n",
       "      <td>0</td>\n",
       "      <td>1</td>\n",
       "      <td>0</td>\n",
       "      <td>0</td>\n",
       "      <td>0</td>\n",
       "      <td>1</td>\n",
       "      <td>0</td>\n",
       "      <td>290000</td>\n",
       "      <td>0</td>\n",
       "    </tr>\n",
       "    <tr>\n",
       "      <th>1</th>\n",
       "      <td>101.8</td>\n",
       "      <td>0</td>\n",
       "      <td>0</td>\n",
       "      <td>0</td>\n",
       "      <td>2</td>\n",
       "      <td>0</td>\n",
       "      <td>0</td>\n",
       "      <td>0</td>\n",
       "      <td>2</td>\n",
       "      <td>0</td>\n",
       "      <td>0</td>\n",
       "      <td>0</td>\n",
       "      <td>0</td>\n",
       "      <td>0</td>\n",
       "      <td>0</td>\n",
       "      <td>0</td>\n",
       "      <td>256000</td>\n",
       "      <td>0</td>\n",
       "    </tr>\n",
       "    <tr>\n",
       "      <th>2</th>\n",
       "      <td>101.8</td>\n",
       "      <td>1</td>\n",
       "      <td>0</td>\n",
       "      <td>0</td>\n",
       "      <td>2</td>\n",
       "      <td>0</td>\n",
       "      <td>0</td>\n",
       "      <td>1</td>\n",
       "      <td>4</td>\n",
       "      <td>0</td>\n",
       "      <td>0</td>\n",
       "      <td>0</td>\n",
       "      <td>0</td>\n",
       "      <td>0</td>\n",
       "      <td>1</td>\n",
       "      <td>1</td>\n",
       "      <td>165000</td>\n",
       "      <td>0</td>\n",
       "    </tr>\n",
       "    <tr>\n",
       "      <th>3</th>\n",
       "      <td>100.9</td>\n",
       "      <td>0</td>\n",
       "      <td>0</td>\n",
       "      <td>0</td>\n",
       "      <td>1</td>\n",
       "      <td>0</td>\n",
       "      <td>0</td>\n",
       "      <td>1</td>\n",
       "      <td>4</td>\n",
       "      <td>0</td>\n",
       "      <td>1</td>\n",
       "      <td>0</td>\n",
       "      <td>1</td>\n",
       "      <td>0</td>\n",
       "      <td>1</td>\n",
       "      <td>0</td>\n",
       "      <td>168000</td>\n",
       "      <td>0</td>\n",
       "    </tr>\n",
       "    <tr>\n",
       "      <th>4</th>\n",
       "      <td>103.4</td>\n",
       "      <td>1</td>\n",
       "      <td>1</td>\n",
       "      <td>1</td>\n",
       "      <td>4</td>\n",
       "      <td>1</td>\n",
       "      <td>3</td>\n",
       "      <td>1</td>\n",
       "      <td>3</td>\n",
       "      <td>1</td>\n",
       "      <td>0</td>\n",
       "      <td>1</td>\n",
       "      <td>1</td>\n",
       "      <td>0</td>\n",
       "      <td>1</td>\n",
       "      <td>0</td>\n",
       "      <td>6800</td>\n",
       "      <td>1</td>\n",
       "    </tr>\n",
       "  </tbody>\n",
       "</table>\n",
       "</div>"
      ],
      "text/plain": [
       "   fever  vomiting  nausea  vomiting_blood  body_pains  pain_behind_eyes  \\\n",
       "0  102.5         0       0               0           1                 0   \n",
       "1  101.8         0       0               0           2                 0   \n",
       "2  101.8         1       0               0           2                 0   \n",
       "3  100.9         0       0               0           1                 0   \n",
       "4  103.4         1       1               1           4                 1   \n",
       "\n",
       "   joint_pains  chill  headache  swollen_glands  rashes  abdominal_pain  \\\n",
       "0            0      1         2               0       1               0   \n",
       "1            0      0         2               0       0               0   \n",
       "2            0      1         4               0       0               0   \n",
       "3            0      1         4               0       1               0   \n",
       "4            3      1         3               1       0               1   \n",
       "\n",
       "   ble_nose  ble_mouth  fatigue  red_eyes  platelets_count  dengue  \n",
       "0         0          0        1         0           290000       0  \n",
       "1         0          0        0         0           256000       0  \n",
       "2         0          0        1         1           165000       0  \n",
       "3         1          0        1         0           168000       0  \n",
       "4         1          0        1         0             6800       1  "
      ]
     },
     "execution_count": 22,
     "metadata": {},
     "output_type": "execute_result"
    }
   ],
   "source": [
    "data.head()"
   ]
  },
  {
   "cell_type": "code",
   "execution_count": 23,
   "metadata": {},
   "outputs": [
    {
     "name": "stdout",
     "output_type": "stream",
     "text": [
      "the bechmark model accuarcy score  35.714285714285715%\n"
     ]
    }
   ],
   "source": [
    "\n",
    "data_n = data[data['dengue'] == 0]\n",
    "data_y = data[data['dengue'] == 1]\n",
    "\n",
    "c=0\n",
    "for i in data.dengue:\n",
    "    if i==1:\n",
    "        c=c+1\n",
    "score=c/data.shape[0]\n",
    "print('the bechmark model accuarcy score  {}%'.format(score*100))"
   ]
  },
  {
   "cell_type": "markdown",
   "metadata": {},
   "source": [
    "## Data visualization"
   ]
  },
  {
   "cell_type": "code",
   "execution_count": 24,
   "metadata": {},
   "outputs": [],
   "source": [
    "import matplotlib.pyplot as plt"
   ]
  },
  {
   "cell_type": "code",
   "execution_count": 25,
   "metadata": {},
   "outputs": [
    {
     "data": {
      "image/png": "[encoded data removed]",
      "text/plain": [
       "<Figure size 432x288 with 16 Axes>"
      ]
     },
     "metadata": {
      "needs_background": "light"
     },
     "output_type": "display_data"
    }
   ],
   "source": [
    "\n",
    "# Instantiate figure object\n",
    "fig = plt.figure()\n",
    "\n",
    "# Create 'for loop' to enerate though tumor features and compare with histograms\n",
    "for i,b in enumerate(list(data.columns[0:16])):\n",
    "    \n",
    "    # Enumerate starts at index 0, need to add 1 for subplotting\n",
    "    i +=1\n",
    "    \n",
    "    # Create axes object for position i\n",
    "    ax = fig.add_subplot(4,4,i)\n",
    "    \n",
    "    # Plot via histogram tumor charateristics using stacked and alpha parameters for..\n",
    "    # comparisons.\n",
    "    ax.hist(data_n[b], label = 'Negative', stacked = True, alpha=0.5, color= 'g')\n",
    "    ax.hist(data_y[b], label= 'Positive', stacked = True, alpha=0.5, color= 'r')\n",
    "    ax.set_title(b)\n",
    "\n",
    "\n",
    "\n",
    "plt.tight_layout()\n",
    "#plt.legend()\n",
    "plt.show()   "
   ]
  },
  {
   "cell_type": "markdown",
   "metadata": {},
   "source": [
    "## Heat map generation"
   ]
  },
  {
   "cell_type": "code",
   "execution_count": 13,
   "metadata": {},
   "outputs": [
    {
     "ename": "NameError",
     "evalue": "name 'sns' is not defined",
     "output_type": "error",
     "traceback": [
      "\u001b[1;31m---------------------------------------------------------------------------\u001b[0m",
      "\u001b[1;31mNameError\u001b[0m                                 Traceback (most recent call last)",
      "\u001b[1;32m<ipython-input-13-b5efd8824c1c>\u001b[0m in \u001b[0;36m<module>\u001b[1;34m\u001b[0m\n\u001b[0;32m      1\u001b[0m \u001b[0mplt\u001b[0m\u001b[1;33m.\u001b[0m\u001b[0mfigure\u001b[0m\u001b[1;33m(\u001b[0m\u001b[0mfigsize\u001b[0m\u001b[1;33m=\u001b[0m\u001b[1;33m(\u001b[0m\u001b[1;36m20\u001b[0m\u001b[1;33m,\u001b[0m\u001b[1;36m10\u001b[0m\u001b[1;33m)\u001b[0m\u001b[1;33m)\u001b[0m\u001b[1;33m\u001b[0m\u001b[1;33m\u001b[0m\u001b[0m\n\u001b[1;32m----> 2\u001b[1;33m \u001b[0msns\u001b[0m\u001b[1;33m.\u001b[0m\u001b[0mheatmap\u001b[0m\u001b[1;33m(\u001b[0m\u001b[0mdata\u001b[0m\u001b[1;33m.\u001b[0m\u001b[0mcorr\u001b[0m\u001b[1;33m(\u001b[0m\u001b[1;33m)\u001b[0m\u001b[1;33m,\u001b[0m\u001b[0mannot\u001b[0m\u001b[1;33m=\u001b[0m\u001b[1;32mTrue\u001b[0m\u001b[1;33m)\u001b[0m\u001b[1;33m\u001b[0m\u001b[1;33m\u001b[0m\u001b[0m\n\u001b[0m",
      "\u001b[1;31mNameError\u001b[0m: name 'sns' is not defined"
     ]
    },
    {
     "data": {
      "text/plain": [
       "<Figure size 1440x720 with 0 Axes>"
      ]
     },
     "metadata": {},
     "output_type": "display_data"
    }
   ],
   "source": [
    "plt.figure(figsize=(20,10))\n",
    "sns.heatmap(data.corr(),annot=True)\n"
   ]
  },
  {
   "cell_type": "markdown",
   "metadata": {},
   "source": [
    "## Data Modeling"
   ]
  },
  {
   "cell_type": "code",
   "execution_count": 14,
   "metadata": {},
   "outputs": [],
   "source": [
    "## to split the data into ratio of 75% and 25% to train model and test the model\n",
    "\n",
    "from sklearn.model_selection import train_test_split\n",
    "\n",
    "new_data=data.drop(columns={'dengue'})\n",
    "X_train,X_test,y_train,y_test=train_test_split(new_data,data['dengue'],random_state=7)"
   ]
  },
  {
   "cell_type": "code",
   "execution_count": 15,
   "metadata": {},
   "outputs": [],
   "source": [
    "#The data is preprocessing using sklearn.preprocessing.Normalizer\n",
    "from sklearn.preprocessing import Normalizer\n",
    "\n",
    "norm=Normalizer()\n",
    "X_train_normal=norm.transform(X_train)\n",
    "X_test_normal=norm.transform(X_test)\n",
    "#print(X_test_normal)"
   ]
  },
  {
   "cell_type": "markdown",
   "metadata": {},
   "source": [
    "### Hyperparameter tuning"
   ]
  },
  {
   "cell_type": "code",
   "execution_count": 16,
   "metadata": {},
   "outputs": [],
   "source": [
    "from sklearn.ensemble import RandomForestClassifier\n",
    "from sklearn.tree import DecisionTreeClassifier\n",
    "from sklearn.linear_model import LogisticRegression\n",
    "\n",
    "\n",
    "RF_params = {'n_estimators':[10,50,100]}\n",
    "DTC_params = {'criterion':['entropy'], 'max_depth':[10, 50, 100]}\n",
    "LR_params = {'C':[0.001, 0.1, 1, 10, 100]}"
   ]
  },
  {
   "cell_type": "code",
   "execution_count": 17,
   "metadata": {},
   "outputs": [],
   "source": [
    "from sklearn.model_selection import KFold, cross_val_score\n",
    "from sklearn.model_selection import GridSearchCV\n",
    "models=[]\n",
    "\n",
    "models.append(('DTC', DecisionTreeClassifier(), DTC_params))\n",
    "\n",
    "models.append(('LR', LogisticRegression(), LR_params))"
   ]
  },
  {
   "cell_type": "code",
   "execution_count": 18,
   "metadata": {},
   "outputs": [
    {
     "name": "stderr",
     "output_type": "stream",
     "text": [
      "\r",
      "  0%|          | 0/2 [00:00<?, ?it/s]"
     ]
    },
    {
     "name": "stdout",
     "output_type": "stream",
     "text": [
      "Cross Validation Accuracy DTC: Accarcy: 0.994048 SD: 0.076922\n"
     ]
    },
    {
     "name": "stderr",
     "output_type": "stream",
     "text": [
      "\r",
      " 50%|█████     | 1/2 [00:03<00:03,  3.02s/it]"
     ]
    },
    {
     "name": "stdout",
     "output_type": "stream",
     "text": [
      "Cross Validation Accuracy LR: Accarcy: 0.642857 SD: 0.479157\n"
     ]
    },
    {
     "name": "stderr",
     "output_type": "stream",
     "text": [
      "100%|██████████| 2/2 [00:07<00:00,  3.53s/it]\n"
     ]
    }
   ],
   "source": [
    "from tqdm import tqdm\n",
    "results=[]\n",
    "names=[]\n",
    "scoring='accuracy' \n",
    "for name, model, params in tqdm(models):\n",
    "    kfold = KFold(len(X_train_normal), random_state=7, shuffle=True)\n",
    "    model_grid = GridSearchCV(model, params)\n",
    "    cv_results = cross_val_score(model_grid, X_train_normal, y_train, cv = kfold, scoring=scoring)\n",
    "    results.append(cv_results)\n",
    "    names.append(name)\n",
    "    msg = \"Cross Validation Accuracy %s: Accarcy: %f SD: %f\" % (name, cv_results.mean(), cv_results.std())\n",
    "    print(msg)"
   ]
  },
  {
   "cell_type": "markdown",
   "metadata": {},
   "source": [
    "### White Grid Plot"
   ]
  },
  {
   "cell_type": "code",
   "execution_count": 19,
   "metadata": {},
   "outputs": [
    {
     "data": {
      "image/png": "[encoded data removed]",
      "text/plain": [
       "<Figure size 432x288 with 1 Axes>"
      ]
     },
     "metadata": {
      "needs_background": "light"
     },
     "output_type": "display_data"
    }
   ],
   "source": [
    "plt.boxplot(results, labels = names)\n",
    "plt.title('Dengue Diagnosis Performance using Machine Learning ')\n",
    "plt.ylabel('Model Accuracy %')\n",
    "sns.set_style(\"whitegrid\")\n",
    "plt.show()"
   ]
  },
  {
   "cell_type": "markdown",
   "metadata": {},
   "source": [
    "### Accuracy"
   ]
  },
  {
   "cell_type": "code",
   "execution_count": 20,
   "metadata": {},
   "outputs": [
    {
     "data": {
      "text/plain": [
       "0.9821428571428571"
      ]
     },
     "execution_count": 20,
     "metadata": {},
     "output_type": "execute_result"
    }
   ],
   "source": [
    "#The accuracy score obtained without using GridSearchCV\n",
    "\n",
    "from sklearn.metrics import make_scorer, accuracy_score, fbeta_score\n",
    "\n",
    "clf=RandomForestClassifier(n_estimators=100, random_state=42)\n",
    "clf.fit(X_train_normal,y_train)\n",
    "pred=clf.predict(X_test_normal)\n",
    "accuracy_score(pred,y_test)"
   ]
  },
  {
   "cell_type": "markdown",
   "metadata": {},
   "source": [
    "### Data metric evaluation"
   ]
  },
  {
   "cell_type": "code",
   "execution_count": 21,
   "metadata": {},
   "outputs": [
    {
     "name": "stdout",
     "output_type": "stream",
     "text": [
      "Unoptimized model\n",
      "------\n",
      "Accuracy score on testing data: 0.9821\n",
      "F-score on testing data: 0.9615\n",
      "\n",
      "Optimized Model\n",
      "------\n",
      "Final accuracy score on the testing data: 0.9821\n",
      "Final F-score on the testing data: 0.9615\n"
     ]
    }
   ],
   "source": [
    "from sklearn.metrics import make_scorer, accuracy_score, fbeta_score\n",
    "\n",
    "clf = DecisionTreeClassifier(random_state=42)\n",
    "\n",
    "# TODO: Create the parameters list you wish to tune\n",
    "parameters = {'criterion':['entropy'], 'max_depth':[10, 50, 100]}\n",
    "\n",
    "# TODO: Make an fbeta_score scoring object\n",
    "\n",
    "\n",
    "# TODO: Perform grid search on the classifier using 'scorer' as the scoring method\n",
    "grid_obj = GridSearchCV(clf,parameters,scoring='accuracy')\n",
    "\n",
    "# TODO: Fit the grid search object to the training data and find the optimal parameters\n",
    "grid_fit = grid_obj.fit(X_train_normal,y_train)\n",
    "\n",
    "# Get the estimator\n",
    "best_clf = grid_fit.best_estimator_\n",
    "\n",
    "# Make predictions using the unoptimized and model\n",
    "predictions = (clf.fit(X_train_normal, y_train)).predict(X_test_normal)\n",
    "best_predictions = best_clf.predict(X_test_normal)\n",
    "\n",
    "# Report the before-and-afterscores\n",
    "print(\"Unoptimized model\\n------\")\n",
    "print(\"Accuracy score on testing data: {:.4f}\".format(accuracy_score(y_test, predictions)))\n",
    "print(\"F-score on testing data: {:.4f}\".format(fbeta_score(y_test, predictions, beta = 0.5)))\n",
    "print(\"\\nOptimized Model\\n------\")\n",
    "print(\"Final accuracy score on the testing data: {:.4f}\".format(accuracy_score(y_test, best_predictions)))\n",
    "print(\"Final F-score on the testing data: {:.4f}\".format(fbeta_score(y_test, best_predictions, beta = 0.5)))"
   ]
  },
  {
   "cell_type": "markdown",
   "metadata": {},
   "source": [
    "###  Confusion Matrix and Classification report"
   ]
  },
  {
   "cell_type": "code",
   "execution_count": 22,
   "metadata": {},
   "outputs": [
    {
     "name": "stdout",
     "output_type": "stream",
     "text": [
      "                 Predicted Negative  Predicted Postive\n",
      "Actual Negative                  35                  0\n",
      "Actual Positive                   1                 20\n"
     ]
    }
   ],
   "source": [
    "from sklearn.metrics import confusion_matrix, classification_report\n",
    "\n",
    "matrix=confusion_matrix(pred,y_test)\n",
    "matrix=pd.DataFrame(matrix,columns=['Predicted Negative','Predicted Postive'],index=['Actual Negative','Actual Positive'])\n",
    "print(matrix)"
   ]
  },
  {
   "cell_type": "code",
   "execution_count": 23,
   "metadata": {},
   "outputs": [
    {
     "name": "stdout",
     "output_type": "stream",
     "text": [
      "              precision    recall  f1-score   support\n",
      "\n",
      "           0       0.97      1.00      0.99        35\n",
      "           1       1.00      0.95      0.98        21\n",
      "\n",
      "    accuracy                           0.98        56\n",
      "   macro avg       0.99      0.98      0.98        56\n",
      "weighted avg       0.98      0.98      0.98        56\n",
      "\n"
     ]
    }
   ],
   "source": [
    "from sklearn.metrics import classification_report\n",
    "\n",
    "print(classification_report(best_predictions,y_test))"
   ]
  },
  {
   "cell_type": "markdown",
   "metadata": {},
   "source": [
    "###  Performing Predictions"
   ]
  },
  {
   "cell_type": "code",
   "execution_count": 24,
   "metadata": {},
   "outputs": [],
   "source": [
    "#Predicting Function\n",
    "def Predict(fever, vomiting, nausea, vomiting_blood, body_pains, pain_behind_eyes, joint_pains, chill, headache, swollen_glands, rashes, abdominal_pain, ble_nose, ble_mouth, fatigue, red_eyes, platelets_count):\n",
    "    normilized_value = norm.transform([[fever, vomiting, nausea, vomiting_blood, body_pains, pain_behind_eyes, joint_pains, chill, headache, swollen_glands, rashes, abdominal_pain, ble_nose, ble_mouth, fatigue, red_eyes, platelets_count]]);\n",
    "    element = str(normilized_value[[0]])\n",
    "    element = element.strip('[').strip(']').split()\n",
    "    prediction_result=best_clf.predict([element])\n",
    "    if prediction_result == [1]:\n",
    "        return True\n",
    "    elif prediction_result == [0]:\n",
    "        return False\n",
    "    else:\n",
    "        return \"Unknown\"\n",
    "    "
   ]
  },
  {
   "cell_type": "code",
   "execution_count": 25,
   "metadata": {},
   "outputs": [
    {
     "data": {
      "text/html": [
       "<div>\n",
       "<style scoped>\n",
       "    .dataframe tbody tr th:only-of-type {\n",
       "        vertical-align: middle;\n",
       "    }\n",
       "\n",
       "    .dataframe tbody tr th {\n",
       "        vertical-align: top;\n",
       "    }\n",
       "\n",
       "    .dataframe thead th {\n",
       "        text-align: right;\n",
       "    }\n",
       "</style>\n",
       "<table border=\"1\" class=\"dataframe\">\n",
       "  <thead>\n",
       "    <tr style=\"text-align: right;\">\n",
       "      <th></th>\n",
       "      <th>fever</th>\n",
       "      <th>vomiting</th>\n",
       "      <th>nausea</th>\n",
       "      <th>vomiting_blood</th>\n",
       "      <th>body_pains</th>\n",
       "      <th>pain_behind_eyes</th>\n",
       "      <th>joint_pains</th>\n",
       "      <th>chill</th>\n",
       "      <th>headache</th>\n",
       "      <th>swollen_glands</th>\n",
       "      <th>rashes</th>\n",
       "      <th>abdominal_pain</th>\n",
       "      <th>ble_nose</th>\n",
       "      <th>ble_mouth</th>\n",
       "      <th>fatigue</th>\n",
       "      <th>red_eyes</th>\n",
       "      <th>platelets_count</th>\n",
       "      <th>dengue</th>\n",
       "    </tr>\n",
       "  </thead>\n",
       "  <tbody>\n",
       "    <tr>\n",
       "      <th>0</th>\n",
       "      <td>102.5</td>\n",
       "      <td>0</td>\n",
       "      <td>0</td>\n",
       "      <td>0</td>\n",
       "      <td>1</td>\n",
       "      <td>0</td>\n",
       "      <td>0</td>\n",
       "      <td>1</td>\n",
       "      <td>1</td>\n",
       "      <td>0</td>\n",
       "      <td>1</td>\n",
       "      <td>0</td>\n",
       "      <td>0</td>\n",
       "      <td>0</td>\n",
       "      <td>1</td>\n",
       "      <td>0</td>\n",
       "      <td>290000</td>\n",
       "      <td>0</td>\n",
       "    </tr>\n",
       "    <tr>\n",
       "      <th>1</th>\n",
       "      <td>101.8</td>\n",
       "      <td>0</td>\n",
       "      <td>0</td>\n",
       "      <td>0</td>\n",
       "      <td>2</td>\n",
       "      <td>0</td>\n",
       "      <td>0</td>\n",
       "      <td>0</td>\n",
       "      <td>1</td>\n",
       "      <td>0</td>\n",
       "      <td>0</td>\n",
       "      <td>0</td>\n",
       "      <td>0</td>\n",
       "      <td>0</td>\n",
       "      <td>0</td>\n",
       "      <td>0</td>\n",
       "      <td>256000</td>\n",
       "      <td>0</td>\n",
       "    </tr>\n",
       "    <tr>\n",
       "      <th>2</th>\n",
       "      <td>101.8</td>\n",
       "      <td>1</td>\n",
       "      <td>0</td>\n",
       "      <td>0</td>\n",
       "      <td>2</td>\n",
       "      <td>0</td>\n",
       "      <td>0</td>\n",
       "      <td>1</td>\n",
       "      <td>1</td>\n",
       "      <td>0</td>\n",
       "      <td>0</td>\n",
       "      <td>0</td>\n",
       "      <td>0</td>\n",
       "      <td>0</td>\n",
       "      <td>1</td>\n",
       "      <td>1</td>\n",
       "      <td>165000</td>\n",
       "      <td>0</td>\n",
       "    </tr>\n",
       "    <tr>\n",
       "      <th>3</th>\n",
       "      <td>100.9</td>\n",
       "      <td>0</td>\n",
       "      <td>0</td>\n",
       "      <td>0</td>\n",
       "      <td>1</td>\n",
       "      <td>0</td>\n",
       "      <td>0</td>\n",
       "      <td>1</td>\n",
       "      <td>1</td>\n",
       "      <td>0</td>\n",
       "      <td>1</td>\n",
       "      <td>0</td>\n",
       "      <td>1</td>\n",
       "      <td>0</td>\n",
       "      <td>1</td>\n",
       "      <td>0</td>\n",
       "      <td>168000</td>\n",
       "      <td>0</td>\n",
       "    </tr>\n",
       "    <tr>\n",
       "      <th>4</th>\n",
       "      <td>103.4</td>\n",
       "      <td>1</td>\n",
       "      <td>1</td>\n",
       "      <td>1</td>\n",
       "      <td>4</td>\n",
       "      <td>1</td>\n",
       "      <td>3</td>\n",
       "      <td>1</td>\n",
       "      <td>3</td>\n",
       "      <td>1</td>\n",
       "      <td>0</td>\n",
       "      <td>1</td>\n",
       "      <td>1</td>\n",
       "      <td>0</td>\n",
       "      <td>1</td>\n",
       "      <td>0</td>\n",
       "      <td>6800</td>\n",
       "      <td>1</td>\n",
       "    </tr>\n",
       "  </tbody>\n",
       "</table>\n",
       "</div>"
      ],
      "text/plain": [
       "   fever  vomiting  nausea  vomiting_blood  body_pains  pain_behind_eyes  \\\n",
       "0  102.5         0       0               0           1                 0   \n",
       "1  101.8         0       0               0           2                 0   \n",
       "2  101.8         1       0               0           2                 0   \n",
       "3  100.9         0       0               0           1                 0   \n",
       "4  103.4         1       1               1           4                 1   \n",
       "\n",
       "   joint_pains  chill  headache  swollen_glands  rashes  abdominal_pain  \\\n",
       "0            0      1         1               0       1               0   \n",
       "1            0      0         1               0       0               0   \n",
       "2            0      1         1               0       0               0   \n",
       "3            0      1         1               0       1               0   \n",
       "4            3      1         3               1       0               1   \n",
       "\n",
       "   ble_nose  ble_mouth  fatigue  red_eyes  platelets_count  dengue  \n",
       "0         0          0        1         0           290000       0  \n",
       "1         0          0        0         0           256000       0  \n",
       "2         0          0        1         1           165000       0  \n",
       "3         1          0        1         0           168000       0  \n",
       "4         1          0        1         0             6800       1  "
      ]
     },
     "execution_count": 25,
     "metadata": {},
     "output_type": "execute_result"
    }
   ],
   "source": [
    "data.head()"
   ]
  },
  {
   "cell_type": "code",
   "execution_count": 26,
   "metadata": {},
   "outputs": [],
   "source": [
    "#prediction function calling\n",
    "#Enter the values in the sequence fever, vomiting, nausea, vomiting_blood, body_pains, pain_behind_eyes, joint_pains, chill, headache, swollen_glands, rashes, abdominal_pain, ble_nose, ble_mouth, fatigue, red_eyes, platelets_count"
   ]
  },
  {
   "cell_type": "code",
   "execution_count": 27,
   "metadata": {},
   "outputs": [
    {
     "data": {
      "text/plain": [
       "False"
      ]
     },
     "execution_count": 27,
     "metadata": {},
     "output_type": "execute_result"
    }
   ],
   "source": [
    "Predict(102.5,0,0,0,1,0,0,1,1,0,1,0,0,0,1,0,290000)"
   ]
  },
  {
   "cell_type": "code",
   "execution_count": 28,
   "metadata": {},
   "outputs": [
    {
     "data": {
      "text/plain": [
       "True"
      ]
     },
     "execution_count": 28,
     "metadata": {},
     "output_type": "execute_result"
    }
   ],
   "source": [
    "Predict(100,1,0,1,2,1,0,1,1,1,0,1,1,0,1,0,17000)"
   ]
  },
  {
   "cell_type": "code",
   "execution_count": null,
   "metadata": {},
   "outputs": [],
   "source": []
  }
 ],
 "metadata": {
  "kernelspec": {
   "display_name": "Python 3",
   "language": "python",
   "name": "python3"
  },
  "language_info": {
   "codemirror_mode": {
    "name": "ipython",
    "version": 3
   },
   "file_extension": ".py",
   "mimetype": "text/x-python",
   "name": "python",
   "nbconvert_exporter": "python",
   "pygments_lexer": "ipython3",
   "version": "3.7.3"
  }
 },
 "nbformat": 4,
 "nbformat_minor": 1
}
